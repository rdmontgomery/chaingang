{
 "cells": [
  {
   "cell_type": "code",
   "execution_count": 95,
   "metadata": {
    "collapsed": true
   },
   "outputs": [],
   "source": [
    "from bs4 import BeautifulSoup\n",
    "import matplotlib.pyplot as plt\n",
    "import numpy as np\n",
    "import pandas as pd\n",
    "import requests\n",
    "from scipy.optimize import curve_fit\n",
    "import time\n",
    "\n",
    "%matplotlib inline\n",
    "\n",
    "today = time.strftime(\"%Y%m%d\")\n",
    "data = requests.get(f'https://coinmarketcap.com/currencies/bitcoin/historical-data/?start=20170101&end={today}')\n",
    "soup = BeautifulSoup(data._content, 'html.parser')"
   ]
  },
  {
   "cell_type": "code",
   "execution_count": 96,
   "metadata": {},
   "outputs": [
    {
     "data": {
      "text/plain": [
       "['Date', 'Open', 'High', 'Low', 'Close', 'Volume', 'Market Cap']"
      ]
     },
     "execution_count": 96,
     "metadata": {},
     "output_type": "execute_result"
    }
   ],
   "source": [
    "columns = [x.string for x in soup.find_all('th')]\n",
    "columns"
   ]
  },
  {
   "cell_type": "code",
   "execution_count": 97,
   "metadata": {},
   "outputs": [
    {
     "data": {
      "text/plain": [
       "['Nov 28, 2017',\n",
       " '9823.43',\n",
       " '10125.70',\n",
       " '9736.30',\n",
       " '10058.80',\n",
       " '6,348,820,000',\n",
       " '164,104,000,000']"
      ]
     },
     "execution_count": 97,
     "metadata": {},
     "output_type": "execute_result"
    }
   ],
   "source": [
    "data = [x.string for x in soup.find_all('td')]\n",
    "data[0:7]"
   ]
  },
  {
   "cell_type": "code",
   "execution_count": 98,
   "metadata": {},
   "outputs": [],
   "source": [
    "df = pd.DataFrame(\n",
    "    list(zip(\n",
    "        pd.to_datetime(data[0::7]),\n",
    "        data[1::7],\n",
    "        data[2::7],\n",
    "        data[3::7],\n",
    "        data[4::7],\n",
    "        data[5::7],\n",
    "        data[6::7])),\n",
    "    columns=columns,\n",
    "    dtype=np.float64\n",
    ")\n",
    "df['Date'] = pd.to_datetime(df['Date'])\n",
    "# df['Volume'] = df['Volume'].str.replace(',','').astype(float)\n",
    "df['Market Cap'] = df['Market Cap'].str.replace(',','').astype(float)"
   ]
  },
  {
   "cell_type": "code",
   "execution_count": 99,
   "metadata": {},
   "outputs": [
    {
     "data": {
      "text/html": [
       "<div>\n",
       "<style>\n",
       "    .dataframe thead tr:only-child th {\n",
       "        text-align: right;\n",
       "    }\n",
       "\n",
       "    .dataframe thead th {\n",
       "        text-align: left;\n",
       "    }\n",
       "\n",
       "    .dataframe tbody tr th {\n",
       "        vertical-align: top;\n",
       "    }\n",
       "</style>\n",
       "<table border=\"1\" class=\"dataframe\">\n",
       "  <thead>\n",
       "    <tr style=\"text-align: right;\">\n",
       "      <th></th>\n",
       "      <th>Date</th>\n",
       "      <th>Open</th>\n",
       "      <th>High</th>\n",
       "      <th>Low</th>\n",
       "      <th>Close</th>\n",
       "      <th>Volume</th>\n",
       "      <th>Market Cap</th>\n",
       "    </tr>\n",
       "  </thead>\n",
       "  <tbody>\n",
       "    <tr>\n",
       "      <th>0</th>\n",
       "      <td>2017-11-28</td>\n",
       "      <td>9823.43</td>\n",
       "      <td>10125.70</td>\n",
       "      <td>9736.30</td>\n",
       "      <td>10058.80</td>\n",
       "      <td>6,348,820,000</td>\n",
       "      <td>1.641040e+11</td>\n",
       "    </tr>\n",
       "    <tr>\n",
       "      <th>1</th>\n",
       "      <td>2017-11-27</td>\n",
       "      <td>9352.72</td>\n",
       "      <td>9818.35</td>\n",
       "      <td>9352.72</td>\n",
       "      <td>9818.35</td>\n",
       "      <td>5,653,320,000</td>\n",
       "      <td>1.562210e+11</td>\n",
       "    </tr>\n",
       "    <tr>\n",
       "      <th>2</th>\n",
       "      <td>2017-11-26</td>\n",
       "      <td>8789.04</td>\n",
       "      <td>9522.93</td>\n",
       "      <td>8775.59</td>\n",
       "      <td>9330.55</td>\n",
       "      <td>5,475,580,000</td>\n",
       "      <td>1.467890e+11</td>\n",
       "    </tr>\n",
       "    <tr>\n",
       "      <th>3</th>\n",
       "      <td>2017-11-25</td>\n",
       "      <td>8241.71</td>\n",
       "      <td>8790.92</td>\n",
       "      <td>8191.15</td>\n",
       "      <td>8790.92</td>\n",
       "      <td>4,342,060,000</td>\n",
       "      <td>1.376320e+11</td>\n",
       "    </tr>\n",
       "    <tr>\n",
       "      <th>4</th>\n",
       "      <td>2017-11-24</td>\n",
       "      <td>8074.02</td>\n",
       "      <td>8374.16</td>\n",
       "      <td>7940.93</td>\n",
       "      <td>8253.69</td>\n",
       "      <td>5,058,610,000</td>\n",
       "      <td>1.348160e+11</td>\n",
       "    </tr>\n",
       "  </tbody>\n",
       "</table>\n",
       "</div>"
      ],
      "text/plain": [
       "        Date     Open      High      Low     Close         Volume  \\\n",
       "0 2017-11-28  9823.43  10125.70  9736.30  10058.80  6,348,820,000   \n",
       "1 2017-11-27  9352.72   9818.35  9352.72   9818.35  5,653,320,000   \n",
       "2 2017-11-26  8789.04   9522.93  8775.59   9330.55  5,475,580,000   \n",
       "3 2017-11-25  8241.71   8790.92  8191.15   8790.92  4,342,060,000   \n",
       "4 2017-11-24  8074.02   8374.16  7940.93   8253.69  5,058,610,000   \n",
       "\n",
       "     Market Cap  \n",
       "0  1.641040e+11  \n",
       "1  1.562210e+11  \n",
       "2  1.467890e+11  \n",
       "3  1.376320e+11  \n",
       "4  1.348160e+11  "
      ]
     },
     "execution_count": 99,
     "metadata": {},
     "output_type": "execute_result"
    }
   ],
   "source": [
    "df.head()"
   ]
  },
  {
   "cell_type": "code",
   "execution_count": 112,
   "metadata": {},
   "outputs": [
    {
     "data": {
      "image/png": "[encoded data removed]",
      "text/plain": [
       "<matplotlib.figure.Figure at 0x1fd8d7792e8>"
      ]
     },
     "metadata": {},
     "output_type": "display_data"
    }
   ],
   "source": [
    "# logarithmic function\n",
    "def func(x, p1, p2):\n",
    "      return p1 * np.log(x) + p2\n",
    "\n",
    "popt, pcov = curve_fit(func, df.index+1, df['Close'], p0=(-1000,10000))\n",
    "\n",
    "# curve params\n",
    "p1 = popt[0]\n",
    "p2 = popt[1]\n",
    "logfit = func(range(1, len(df) + 1), p1, p2)\n",
    "\n",
    "# plot curve\n",
    "fig, ax = plt.subplots(figsize=(12,9))\n",
    "ax.plot(df['Date'], df['Close'], '.', label='Closing price')\n",
    "ax.plot(df['Date'], logfit, 'C2', lw=3, label='Exponential growth')\n",
    "ax.set_title('BTC to the moon')\n",
    "ax.set_ylabel('USD')\n",
    "ax.legend()\n",
    "fig.autofmt_xdate()"
   ]
  }
 ],
 "metadata": {
  "kernelspec": {
   "display_name": "Python 3",
   "language": "python",
   "name": "python3"
  },
  "language_info": {
   "codemirror_mode": {
    "name": "ipython",
    "version": 3
   },
   "file_extension": ".py",
   "mimetype": "text/x-python",
   "name": "python",
   "nbconvert_exporter": "python",
   "pygments_lexer": "ipython3",
   "version": "3.6.3"
  }
 },
 "nbformat": 4,
 "nbformat_minor": 2
}
