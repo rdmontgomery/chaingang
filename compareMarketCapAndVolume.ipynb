{
 "cells": [
  {
   "cell_type": "markdown",
   "metadata": {},
   "source": [
    "# Constrain plotted coins by market cap and volume\n",
    "## Click on the graph to take you to a coin's page on coinmarketcap.com!"
   ]
  },
  {
   "cell_type": "code",
   "execution_count": 1,
   "metadata": {},
   "outputs": [
    {
     "name": "stdout",
     "output_type": "stream",
     "text": [
      "Using matplotlib backend: Qt5Agg\n"
     ]
    }
   ],
   "source": [
    "from bs4 import BeautifulSoup\n",
    "import matplotlib.pyplot as plt\n",
    "import numpy as np\n",
    "import pandas as pd\n",
    "import requests\n",
    "import time\n",
    "import webbrowser\n",
    "\n",
    "%matplotlib auto"
   ]
  },
  {
   "cell_type": "code",
   "execution_count": 2,
   "metadata": {},
   "outputs": [],
   "source": [
    "coinListGet = requests.get('https://coinmarketcap.com/all/views/all/')\n",
    "coinListSoup = BeautifulSoup(coinListGet._content, 'html.parser')\n",
    "\n",
    "data = {}\n",
    "for num, row in enumerate(coinListSoup.findAll('tr')):\n",
    "    if num >= 1:\n",
    "        try:\n",
    "            name = row.findChild('a', {'class': 'currency-name-container'}).get_text()\n",
    "            symbol = row.findChild('span', {'class': 'currency-symbol'}).get_text()\n",
    "            href = row.findChild('a')['href']\n",
    "            price = float(row.findChild('a', {'class': 'price'}).get_text().strip('$').replace(',', ''))\n",
    "            volume = float(row.findChild('a', {'class': 'volume'}).get_text().strip('$').replace(',', ''))\n",
    "            marketcap = float(row.findChild('td', {'class' : 'market-cap'}).get_text().strip().strip('$').replace(',', ''))\n",
    "        \n",
    "            data[symbol] = {\n",
    "                'name' : name,\n",
    "                'symbol': symbol,\n",
    "                'href': href,\n",
    "                'price': price,\n",
    "                'volume': volume,\n",
    "                'marketcap': marketcap\n",
    "            }\n",
    "        except ValueError as err:\n",
    "            # Pops up because of low volumes\n",
    "            continue\n",
    "\n",
    "summary = pd.DataFrame.from_dict(data, orient='index').reset_index()"
   ]
  },
  {
   "cell_type": "code",
   "execution_count": 3,
   "metadata": {
    "collapsed": true
   },
   "outputs": [],
   "source": [
    "# View the whole market\n",
    "fig, mcap_ax = plt.subplots(figsize=(12, 9))\n",
    "vol_ax = mcap_ax.twinx()\n",
    "summary.sort_values(by='marketcap').plot(x=summary.index, y='marketcap', marker='o', linestyle='', ax=mcap_ax, color='C0', logy=True)\n",
    "summary.sort_values(by='marketcap').plot(x=summary.index, y='volume', marker='o', linestyle='', ax=vol_ax, color='C2', logy=True)\n",
    "mcap_ax.legend(loc=2)\n",
    "vol_ax.legend(loc=1)\n",
    "\n",
    "mcap_ax.tick_params(axis='x', which='both', bottom='off', top='off', labelbottom='off')\n",
    "mcap_ax.set_ylabel('Market Cap ($)')\n",
    "mcap_ax.set_xlabel('Coins ranked by market cap')\n",
    "vol_ax.set_ylabel('24 Hr Volume ($)')\n",
    "\n",
    "fig.tight_layout()"
   ]
  },
  {
   "cell_type": "code",
   "execution_count": 4,
   "metadata": {},
   "outputs": [],
   "source": [
    "# After viewing the whole market, constrain the coins by marketcap, volume, or price\n",
    "minCap = (summary['marketcap'] > 5e5)\n",
    "maxCap = (summary['marketcap'] < 3e6)\n",
    "minVol = (summary['volume'] > 1e4)\n",
    "constrained = summary[minCap & maxCap & minVol]\n",
    "constrained = constrained.sort_values(by='marketcap').reset_index()\n",
    "\n",
    "fig, (mcap_ax, perc_ax) = plt.subplots(nrows=2, figsize=(12, 9))\n",
    "vol_ax = mcap_ax.twinx()\n",
    "constrained.plot(y='marketcap', marker='o', linestyle='', ax=mcap_ax, color='C0', logy=True)\n",
    "constrained.plot(y='volume', marker='o', linestyle='', ax=vol_ax, color='C2', logy=False)\n",
    "perc_ax.plot(constrained['volume'] / constrained['marketcap'], 'o')\n",
    "\n",
    "mcap_ax.legend(loc=2)\n",
    "mcap_ax.tick_params(axis='x', which='both', bottom='off', top='off', labelbottom='off')\n",
    "mcap_ax.set_ylabel('Market Cap ($)')\n",
    "\n",
    "vol_ax.legend(loc=1)\n",
    "vol_ax.set_ylabel('24 Hr Volume ($)')\n",
    "\n",
    "perc_ax.tick_params(axis='x', which='both', bottom='off', top='off', labelbottom='off')\n",
    "perc_ax.set_yticklabels(['{:3.2f}%'.format(x*100) for x in perc_ax.get_yticks()])\n",
    "perc_ax.set_xlabel('Coins ranked by market cap')\n",
    "perc_ax.set_ylabel('Volume / Market Cap (%)')\n",
    "\n",
    "\n",
    "def onclick(event):\n",
    "    pos = int(np.round(event.xdata))\n",
    "    webbrowser.open(f\"https://coinmarketcap.com{constrained.loc[pos, 'href']}\")\n",
    "\n",
    "fig.canvas.mpl_connect('button_press_event', onclick)\n",
    "fig.tight_layout()"
   ]
  }
 ],
 "metadata": {
  "kernelspec": {
   "display_name": "Python 3",
   "language": "python",
   "name": "python3"
  },
  "language_info": {
   "codemirror_mode": {
    "name": "ipython",
    "version": 3
   },
   "file_extension": ".py",
   "mimetype": "text/x-python",
   "name": "python",
   "nbconvert_exporter": "python",
   "pygments_lexer": "ipython3",
   "version": "3.6.3"
  }
 },
 "nbformat": 4,
 "nbformat_minor": 2
}
